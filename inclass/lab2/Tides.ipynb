{
 "cells": [
  {
   "cell_type": "code",
   "execution_count": 54,
   "metadata": {
    "collapsed": true
   },
   "outputs": [],
   "source": [
    "# Tides In Class Assignment 2\n",
    "# Feb 1 2018\n",
    "# G. Besla \n",
    "\n",
    "# import relevant modules \n",
    "import astropy.units as u\n",
    "import numpy as np"
   ]
  },
  {
   "cell_type": "code",
   "execution_count": 154,
   "metadata": {
    "collapsed": true
   },
   "outputs": [],
   "source": [
    "# gravitational constant in units of kpc^3/Gyr^2/Msun\n",
    "G = 4.498768e-6*u.kpc**3/u.Gyr**2/u.Msun"
   ]
  },
  {
   "cell_type": "code",
   "execution_count": 168,
   "metadata": {
    "collapsed": true
   },
   "outputs": [],
   "source": [
    "# Observed size of the LMC disk\n",
    "# Mackey+2016\n",
    "RLMC = 18.5*u.kpc"
   ]
  },
  {
   "cell_type": "code",
   "execution_count": 155,
   "metadata": {
    "collapsed": true
   },
   "outputs": [],
   "source": [
    "# MW disk mass and bulge mass\n",
    "# using answers from assignment 3 \n",
    "Mdisk =  7.5e10/1e12*u.Msun\n",
    "Mbulge = 1e10/1e12*u.Msun"
   ]
  },
  {
   "cell_type": "code",
   "execution_count": 156,
   "metadata": {
    "collapsed": true
   },
   "outputs": [],
   "source": [
    "# Question 1\n",
    "\n",
    "def HernquistM(rsep,scale,Mtot):\n",
    "# Hernquist 1990 Mass profile \n",
    "# Input:  Radius (kpc), Scale Length (kpc), Total Mass (Msun)\n",
    "# Returns: Mass in units of 1e12 Msun\n",
    "    return round(Mtot*rsep**2/(rsep+scale)**2/1e12,2)*u.Msun"
   ]
  },
  {
   "cell_type": "code",
   "execution_count": 157,
   "metadata": {},
   "outputs": [],
   "source": [
    "# determine the total mass of the MW within 50 kpc\n",
    "# Kochanek+1996 find 4.9e11\n",
    "MassMW = (HernquistM(50,60,1.96e12) + Mdisk + Mbulge)*1e12"
   ]
  },
  {
   "cell_type": "code",
   "execution_count": 158,
   "metadata": {},
   "outputs": [
    {
     "data": {
      "text/latex": [
       "$4.85 \\times 10^{11} \\; \\mathrm{M_{\\odot}}$"
      ],
      "text/plain": [
       "<Quantity 485000000000.00006 solMass>"
      ]
     },
     "execution_count": 158,
     "metadata": {},
     "output_type": "execute_result"
    }
   ],
   "source": [
    "MassMW"
   ]
  },
  {
   "cell_type": "code",
   "execution_count": 159,
   "metadata": {
    "collapsed": true
   },
   "outputs": [],
   "source": [
    "# Question 2 \n",
    "\n",
    "def SatelliteMass(rtide,rsep,Mhost):\n",
    "# Given the Equation for the Jacobi Radius for an extended host, \n",
    "# we can rearrange the equation so that it returns the \n",
    "# minimum required satellite mass to maintain an observed radius\n",
    "# input :  Tidal Radius = Observed Size of the Satellite\n",
    "#        : Rsep = separation to host \n",
    "#        : Mhost = Host Mass enclosed within rsep\n",
    "#  Returns: minimum satellite mass within rtide in Msun\n",
    "    return np.round((rtide/rsep)**3*2*Mhost/1e10,2)*1e10\n",
    "    \n",
    "    "
   ]
  },
  {
   "cell_type": "code",
   "execution_count": 160,
   "metadata": {},
   "outputs": [
    {
     "data": {
      "text/latex": [
       "$4.91 \\times 10^{10} \\; \\mathrm{M_{\\odot}}$"
      ],
      "text/plain": [
       "<Quantity 49100000000.0 solMass>"
      ]
     },
     "execution_count": 160,
     "metadata": {},
     "output_type": "execute_result"
    }
   ],
   "source": [
    "# LMC minimum mass in maximal MW halo model (from Simulation)\n",
    "SatelliteMass(18.5,50,MassMW)"
   ]
  },
  {
   "cell_type": "code",
   "execution_count": null,
   "metadata": {
    "collapsed": true
   },
   "outputs": [],
   "source": [
    "# Question 3   Consistency Checks"
   ]
  },
  {
   "cell_type": "code",
   "execution_count": 176,
   "metadata": {},
   "outputs": [
    {
     "data": {
      "text/latex": [
       "$3.46 \\times 10^{10} \\; \\mathrm{M_{\\odot}}$"
      ],
      "text/plain": [
       "<Quantity 34600000000.0 solMass>"
      ]
     },
     "execution_count": 176,
     "metadata": {},
     "output_type": "execute_result"
    }
   ],
   "source": [
    "# Maximal LMC mass\n",
    "# Assuming LMC has a flat rotation curve to 18.5 kpc\n",
    "# Vc = 91.7 +/- 18.8 km/s  van der Marel & Kallivayalil 2014\n",
    "# 1 km/s ~ 1 kpc/Gyr\n",
    "Vc = 91.7*u.kpc/u.Gyr\n",
    "\n",
    "# MLMC Vc^2 = GM/R = constant, rearrange for M:\n",
    "np.round((Vc*Vc/G*RLMC)/1e10,2)*1e10"
   ]
  },
  {
   "cell_type": "code",
   "execution_count": null,
   "metadata": {
    "collapsed": true
   },
   "outputs": [],
   "source": [
    "# the minimum mass needed seems larger than the maximal mass possible.\n",
    "# either LMC rotation curve needs to be higher (which it could within the errors)\n",
    "# Or MW halo mass within 50 kpc is smaller, e.g. 3e11 "
   ]
  },
  {
   "cell_type": "code",
   "execution_count": 178,
   "metadata": {},
   "outputs": [
    {
     "data": {
      "text/latex": [
       "$5.02 \\times 10^{10} \\; \\mathrm{M_{\\odot}}$"
      ],
      "text/plain": [
       "<Quantity 50199999999.99999 solMass>"
      ]
     },
     "execution_count": 178,
     "metadata": {},
     "output_type": "execute_result"
    }
   ],
   "source": [
    "# Try increasing the LMC circular speed by 1 sigma\n",
    "VcMax = Vc+18.8*u.kpc/u.Gyr\n",
    "np.round((VcMax*VcMax/G*RLMC)/1e10,2)*1e10# either LMC rotation curve needs to be higher (which it could within the errors)\n",
    "# Or MW halo mass within 50 kpc is 3e11 "
   ]
  },
  {
   "cell_type": "code",
   "execution_count": 197,
   "metadata": {},
   "outputs": [
    {
     "data": {
      "text/latex": [
       "$3.04 \\times 10^{10} \\; \\mathrm{M_{\\odot}}$"
      ],
      "text/plain": [
       "<Quantity 30400000000.0 solMass>"
      ]
     },
     "execution_count": 197,
     "metadata": {},
     "output_type": "execute_result"
    }
   ],
   "source": [
    "# LMC minimum mass in minimal MW halo model \n",
    "MinMW = 3e11*u.Msun\n",
    "SatelliteMass(18.5,50,MinMW)"
   ]
  },
  {
   "cell_type": "code",
   "execution_count": 190,
   "metadata": {
    "collapsed": true
   },
   "outputs": [],
   "source": [
    "# Jacobi Radius for Extended host mass\n",
    "def JacobiRadius(rsep,Msat,Mhost):\n",
    "    return rsep*(Msat/Mhost/2.0)**(1/3)"
   ]
  },
  {
   "cell_type": "code",
   "execution_count": 191,
   "metadata": {},
   "outputs": [
    {
     "data": {
      "text/plain": [
       "18.49580580607506"
      ]
     },
     "execution_count": 191,
     "metadata": {},
     "output_type": "execute_result"
    }
   ],
   "source": [
    "JacobiRadius(50,4.91e10,4.85e11)"
   ]
  },
  {
   "cell_type": "code",
   "execution_count": 194,
   "metadata": {
    "collapsed": true
   },
   "outputs": [],
   "source": [
    "# From vdM2002\n",
    "# assuming a flat rotation curve for the MW and \n",
    "# for the satellite\n",
    "def JacobiFlatVc(rsep,VcSat,VcHost):\n",
    "    return round(rsep*(VcSat/VcHost),2)*u.kpc"
   ]
  },
  {
   "cell_type": "code",
   "execution_count": 195,
   "metadata": {},
   "outputs": [
    {
     "data": {
      "text/latex": [
       "$22.26 \\; \\mathrm{kpc}$"
      ],
      "text/plain": [
       "<Quantity 22.26 kpc>"
      ]
     },
     "execution_count": 195,
     "metadata": {},
     "output_type": "execute_result"
    }
   ],
   "source": [
    "# MW Vc = 206 to get M(<50 )= 4.9e11, assuming isothermal sphere.\n",
    "JacobiFlatVc(50,91.7,206)"
   ]
  },
  {
   "cell_type": "code",
   "execution_count": null,
   "metadata": {
    "collapsed": true
   },
   "outputs": [],
   "source": []
  }
 ],
 "metadata": {
  "kernelspec": {
   "display_name": "Python 3",
   "language": "python",
   "name": "python3"
  },
  "language_info": {
   "codemirror_mode": {
    "name": "ipython",
    "version": 3
   },
   "file_extension": ".py",
   "mimetype": "text/x-python",
   "name": "python",
   "nbconvert_exporter": "python",
   "pygments_lexer": "ipython3",
   "version": "3.6.1"
  }
 },
 "nbformat": 4,
 "nbformat_minor": 2
}
